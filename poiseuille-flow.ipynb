{
 "cells": [
  {
   "cell_type": "markdown",
   "metadata": {},
   "source": [
    "https://fenicsproject.discourse.group/t/solve-1d-poiseuille-flow-defining-the-total-flow-rate/6754"
   ]
  },
  {
   "cell_type": "code",
   "execution_count": 2,
   "metadata": {},
   "outputs": [
    {
     "name": "stdout",
     "output_type": "stream",
     "text": [
      "Unknown finite element \"<CG1 on a interval>\".\n"
     ]
    },
    {
     "ename": "UFLException",
     "evalue": "Unknown finite element \"<CG1 on a interval>\".",
     "output_type": "error",
     "traceback": [
      "\u001b[0;31m---------------------------------------------------------------------------\u001b[0m",
      "\u001b[0;31mUFLException\u001b[0m                              Traceback (most recent call last)",
      "\u001b[1;32m/Users/davidvasquez/Documents/GitHub/lyophilization-scale-up-model/poiseuille-flow.ipynb Cell 2\u001b[0m line \u001b[0;36m1\n\u001b[1;32m      <a href='vscode-notebook-cell:/Users/davidvasquez/Documents/GitHub/lyophilization-scale-up-model/poiseuille-flow.ipynb#W0sZmlsZQ%3D%3D?line=8'>9</a>\u001b[0m V \u001b[39m=\u001b[39m FiniteElement(\u001b[39m'\u001b[39m\u001b[39mCG\u001b[39m\u001b[39m'\u001b[39m, mesh\u001b[39m.\u001b[39mufl_cell(), \u001b[39m1\u001b[39m)\n\u001b[1;32m     <a href='vscode-notebook-cell:/Users/davidvasquez/Documents/GitHub/lyophilization-scale-up-model/poiseuille-flow.ipynb#W0sZmlsZQ%3D%3D?line=9'>10</a>\u001b[0m \u001b[39m# R = FiniteElement('R', mesh.ufl_cell(), 0)\u001b[39;00m\n\u001b[1;32m     <a href='vscode-notebook-cell:/Users/davidvasquez/Documents/GitHub/lyophilization-scale-up-model/poiseuille-flow.ipynb#W0sZmlsZQ%3D%3D?line=10'>11</a>\u001b[0m \u001b[39m# W = FunctionSpace(mesh, MixedElement([V, R]))\u001b[39;00m\n\u001b[1;32m     <a href='vscode-notebook-cell:/Users/davidvasquez/Documents/GitHub/lyophilization-scale-up-model/poiseuille-flow.ipynb#W0sZmlsZQ%3D%3D?line=11'>12</a>\u001b[0m \n\u001b[1;32m     <a href='vscode-notebook-cell:/Users/davidvasquez/Documents/GitHub/lyophilization-scale-up-model/poiseuille-flow.ipynb#W0sZmlsZQ%3D%3D?line=12'>13</a>\u001b[0m \u001b[39m# bc = DirichletBC(W.sub(0), Constant(0.0), \"on_boundary\")\u001b[39;00m\n\u001b[0;32m---> <a href='vscode-notebook-cell:/Users/davidvasquez/Documents/GitHub/lyophilization-scale-up-model/poiseuille-flow.ipynb#W0sZmlsZQ%3D%3D?line=14'>15</a>\u001b[0m W \u001b[39m=\u001b[39m FunctionSpace(mesh, V, \u001b[39m1\u001b[39;49m)\n",
      "File \u001b[0;32m~/opt/anaconda3/envs/fenicsproject/lib/python3.11/site-packages/dolfin/function/functionspace.py:33\u001b[0m, in \u001b[0;36mFunctionSpace.__init__\u001b[0;34m(self, *args, **kwargs)\u001b[0m\n\u001b[1;32m     31\u001b[0m     \u001b[39mself\u001b[39m\u001b[39m.\u001b[39m_init_from_ufl(\u001b[39m*\u001b[39margs, \u001b[39m*\u001b[39m\u001b[39m*\u001b[39mkwargs)\n\u001b[1;32m     32\u001b[0m \u001b[39melse\u001b[39;00m:\n\u001b[0;32m---> 33\u001b[0m     \u001b[39mself\u001b[39;49m\u001b[39m.\u001b[39;49m_init_convenience(\u001b[39m*\u001b[39;49margs, \u001b[39m*\u001b[39;49m\u001b[39m*\u001b[39;49mkwargs)\n",
      "File \u001b[0;32m~/opt/anaconda3/envs/fenicsproject/lib/python3.11/site-packages/dolfin/function/functionspace.py:97\u001b[0m, in \u001b[0;36mFunctionSpace._init_convenience\u001b[0;34m(self, mesh, family, degree, form_degree, constrained_domain, restriction)\u001b[0m\n\u001b[1;32m     93\u001b[0m \u001b[39mdef\u001b[39;00m \u001b[39m_init_convenience\u001b[39m(\u001b[39mself\u001b[39m, mesh, family, degree, form_degree\u001b[39m=\u001b[39m\u001b[39mNone\u001b[39;00m,\n\u001b[1;32m     94\u001b[0m                       constrained_domain\u001b[39m=\u001b[39m\u001b[39mNone\u001b[39;00m, restriction\u001b[39m=\u001b[39m\u001b[39mNone\u001b[39;00m):\n\u001b[1;32m     95\u001b[0m \n\u001b[1;32m     96\u001b[0m     \u001b[39m# Create UFL element\u001b[39;00m\n\u001b[0;32m---> 97\u001b[0m     element \u001b[39m=\u001b[39m ufl\u001b[39m.\u001b[39;49mFiniteElement(family, mesh\u001b[39m.\u001b[39;49mufl_cell(), degree,\n\u001b[1;32m     98\u001b[0m                                 form_degree\u001b[39m=\u001b[39;49mform_degree)\n\u001b[1;32m    100\u001b[0m     \u001b[39mself\u001b[39m\u001b[39m.\u001b[39m_init_from_ufl(mesh, element, constrained_domain\u001b[39m=\u001b[39mconstrained_domain)\n",
      "File \u001b[0;32m~/opt/anaconda3/envs/fenicsproject/lib/python3.11/site-packages/ufl/finiteelement/finiteelement.py:159\u001b[0m, in \u001b[0;36mFiniteElement.__init__\u001b[0;34m(self, family, cell, degree, form_degree, quad_scheme, variant)\u001b[0m\n\u001b[1;32m    156\u001b[0m \u001b[39mif\u001b[39;00m cell \u001b[39mis\u001b[39;00m \u001b[39mnot\u001b[39;00m \u001b[39mNone\u001b[39;00m:\n\u001b[1;32m    157\u001b[0m     cell \u001b[39m=\u001b[39m as_cell(cell)\n\u001b[0;32m--> 159\u001b[0m family, short_name, degree, value_shape, reference_value_shape, sobolev_space, mapping \u001b[39m=\u001b[39m canonical_element_description(family, cell, degree, form_degree)\n\u001b[1;32m    161\u001b[0m \u001b[39m# TODO: Move these to base? Might be better to instead\u001b[39;00m\n\u001b[1;32m    162\u001b[0m \u001b[39m# simplify base though.\u001b[39;00m\n\u001b[1;32m    163\u001b[0m \u001b[39mself\u001b[39m\u001b[39m.\u001b[39m_sobolev_space \u001b[39m=\u001b[39m sobolev_space\n",
      "File \u001b[0;32m~/opt/anaconda3/envs/fenicsproject/lib/python3.11/site-packages/ufl/finiteelement/elementlist.py:336\u001b[0m, in \u001b[0;36mcanonical_element_description\u001b[0;34m(family, cell, order, form_degree)\u001b[0m\n\u001b[1;32m    334\u001b[0m \u001b[39m# Check that the element family exists\u001b[39;00m\n\u001b[1;32m    335\u001b[0m \u001b[39mif\u001b[39;00m family \u001b[39mnot\u001b[39;00m \u001b[39min\u001b[39;00m ufl_elements:\n\u001b[0;32m--> 336\u001b[0m     error(\u001b[39m'\u001b[39;49m\u001b[39mUnknown finite element \u001b[39;49m\u001b[39m\"\u001b[39;49m\u001b[39m%s\u001b[39;49;00m\u001b[39m\"\u001b[39;49m\u001b[39m.\u001b[39;49m\u001b[39m'\u001b[39;49m \u001b[39m%\u001b[39;49m family)\n\u001b[1;32m    338\u001b[0m \u001b[39m# Check that element data is valid (and also get common family\u001b[39;00m\n\u001b[1;32m    339\u001b[0m \u001b[39m# name)\u001b[39;00m\n\u001b[1;32m    340\u001b[0m (family, short_name, value_rank, sobolev_space, mapping, krange, cellnames) \u001b[39m=\u001b[39m ufl_elements[family]\n",
      "File \u001b[0;32m~/opt/anaconda3/envs/fenicsproject/lib/python3.11/site-packages/ufl/log.py:172\u001b[0m, in \u001b[0;36mLogger.error\u001b[0;34m(self, *message)\u001b[0m\n\u001b[1;32m    170\u001b[0m \u001b[39m\"\u001b[39m\u001b[39mWrite error message and raise an exception.\u001b[39m\u001b[39m\"\u001b[39m\n\u001b[1;32m    171\u001b[0m \u001b[39mself\u001b[39m\u001b[39m.\u001b[39m_log\u001b[39m.\u001b[39merror(\u001b[39m*\u001b[39mmessage)\n\u001b[0;32m--> 172\u001b[0m \u001b[39mraise\u001b[39;00m \u001b[39mself\u001b[39m\u001b[39m.\u001b[39m_exception_type(\u001b[39mself\u001b[39m\u001b[39m.\u001b[39m_format_raw(\u001b[39m*\u001b[39mmessage))\n",
      "\u001b[0;31mUFLException\u001b[0m: Unknown finite element \"<CG1 on a interval>\"."
     ]
    }
   ],
   "source": [
    "from fenics import *\n",
    "import matplotlib.pyplot as plt\n",
    "\n",
    "U = 2.0\n",
    "mu = 1.0\n",
    "H = 1.0\n",
    "\n",
    "mesh = IntervalMesh(100, 0.0, H)\n",
    "V = FiniteElement('CG', mesh.ufl_cell(), 1)\n",
    "# R = FiniteElement('R', mesh.ufl_cell(), 0)\n",
    "# W = FunctionSpace(mesh, MixedElement([V, R]))\n",
    "\n",
    "# bc = DirichletBC(W.sub(0), Constant(0.0), \"on_boundary\")\n",
    "\n",
    "W = FunctionSpace(mesh, 'CG', 1)"
   ]
  },
  {
   "cell_type": "code",
   "execution_count": null,
   "metadata": {},
   "outputs": [],
   "source": [
    "\n",
    "bc = DirichletBC(W, Constant(0.0), \"on_boundary\")\n",
    "\n",
    "\n",
    "u, c = TrialFunctions(W)\n",
    "v, d = TestFunctions(W)\n",
    "\n",
    "F1 = dot(mu*grad(u), grad(v))*dx + v*c*dx\n",
    "F2 = d*(u - U)*dx\n",
    "F = F1 + F2\n",
    "a, L = lhs(F), rhs(F)\n",
    "w = Function(W)\n",
    "solve(a == L, w, bc)\n",
    "u, c = w.split()"
   ]
  },
  {
   "cell_type": "code",
   "execution_count": null,
   "metadata": {},
   "outputs": [],
   "source": []
  }
 ],
 "metadata": {
  "kernelspec": {
   "display_name": "fenicsproject",
   "language": "python",
   "name": "python3"
  },
  "language_info": {
   "codemirror_mode": {
    "name": "ipython",
    "version": 3
   },
   "file_extension": ".py",
   "mimetype": "text/x-python",
   "name": "python",
   "nbconvert_exporter": "python",
   "pygments_lexer": "ipython3",
   "version": "3.11.0"
  },
  "orig_nbformat": 4
 },
 "nbformat": 4,
 "nbformat_minor": 2
}
