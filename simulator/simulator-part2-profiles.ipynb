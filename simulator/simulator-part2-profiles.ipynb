{
 "cells": [
  {
   "cell_type": "markdown",
   "metadata": {},
   "source": [
    "## Profiles (Temperature and pressure)"
   ]
  },
  {
   "cell_type": "code",
   "execution_count": null,
   "metadata": {},
   "outputs": [],
   "source": [
    "# Analytical expression for the temperature of frozen region that solves all of the \n",
    "# equations described the simplified model\n",
    "\n",
    "# Axial coordinate and time\n",
    "x_array = np.linspace(0, Length, nx)  # nx\n",
    "t_array = np.linspace(0, T, num_steps)  # num_steps\n",
    "\n",
    "T_2 = np.zeros ((nx, num_steps)) #(x,y,z)\n",
    "\n",
    "# Mesh grid\n",
    "# x, t = np.meshgrid(x, t)\n",
    "\n",
    "j = 0\n",
    "for t in t_array:\n",
    "    i = 0\n",
    "    for x in x_array:\n",
    "        # Temperature\n",
    "        T_2[i,j] = a * (x_array[j]**2 - Length**2) + 2 * a * Length * k2 / htc + Tshelf_r * t + Tshelf_i\n",
    "        i += 1\n",
    "\n",
    "        if any(T_2[i,j]>=Tsub):\n",
    "            t_Tsub = t\n",
    "            print(f't_Tsub: {t_Tsub}')\n",
    "    j += 1\n"
   ]
  },
  {
   "cell_type": "code",
   "execution_count": null,
   "metadata": {},
   "outputs": [],
   "source": [
    "print(T_2[299,10])\n"
   ]
  },
  {
   "cell_type": "code",
   "execution_count": null,
   "metadata": {},
   "outputs": [],
   "source": [
    "\n",
    "import matplotlib.pyplot as plt\n",
    "import numpy as np\n",
    "\n",
    "from matplotlib import cm\n",
    "from matplotlib.ticker import LinearLocator\n",
    "\n",
    "fig, ax = plt.subplots(subplot_kw={\"projection\": \"3d\"})\n",
    "\n",
    "# Make data.\n",
    "x_array = np.linspace(0, Length, nx)\n",
    "t_array = np.linspace(0, T, num_steps)\n",
    "x_array, t_array = np.meshgrid(x_array, t_array)\n",
    "\n",
    "print(len(x_array))\n",
    "print(len(t_array))\n",
    "\n",
    "T_2_array =  a * (x_array**2 - Length**2) + 2 * a * Length * k2 / htc + Tshelf_r * t_array + Tshelf_i\n",
    "\n",
    "print(len(T_2))\n",
    "\n",
    "# Plot the surface.\n",
    "surf = ax.plot_surface(x_array, t_array, T_2_array, cmap=cm.coolwarm,\n",
    "                       linewidth=0, antialiased=False)\n",
    "\n",
    "# Customize the z axis.\n",
    "plt.title(\"Drying temperature 3D plot\")\n",
    "# ax.set_zlim(-1.01, 1.01)\n",
    "ax.zaxis.set_major_locator(LinearLocator(10))\n",
    "# A StrMethodFormatter is used automatically\n",
    "ax.zaxis.set_major_formatter('{x:.02f}')\n",
    "ax.set_xlabel('Lenght (m)')\n",
    "ax.set_ylabel('Dryig time (s)')\n",
    "ax.set_zlabel('Temperature (K)')\n",
    "\n",
    "# Add a color bar which maps values to colors.\n",
    "fig.colorbar(surf, shrink=0.5, aspect=5, orientation=\"horizontal\")\n",
    "ax.view_init(elev=33, azim=155)\n",
    "\n",
    "plt.show()"
   ]
  },
  {
   "cell_type": "code",
   "execution_count": null,
   "metadata": {},
   "outputs": [],
   "source": [
    "# Procurar em qual tempo e qual ponto atinge Tsub=256.15  # Sublimation temperature\n",
    "\n",
    "# t_Tsub"
   ]
  },
  {
   "cell_type": "markdown",
   "metadata": {},
   "source": [
    "### Then, equation (20) is reorganized to calculate the moving boundary,\n",
    "\n",
    "<img src=\"figures/eq5.png\" width=\"300\">\n",
    "\n",
    "Analytical approximation:\n",
    "\n",
    "<img src=\"figures/eq6.png\" width=\"300\">\n"
   ]
  },
  {
   "cell_type": "code",
   "execution_count": null,
   "metadata": {},
   "outputs": [],
   "source": [
    "Tshelf = Tshelf_r * t_sub + Tshelf_i\n",
    "\n",
    "# T_2_tsub = T_2(t=t_sub, x=Length)\n",
    "\n",
    "T_2_tsub= T_2[0, t_Tsub]\n",
    "\n",
    "Hb = h * (Tshelf_f - T_2_tsub)\n",
    "# Hb = 1671\n",
    "delxdelt = (Hb + Hw) * t_array /((density2 - density1) * Hsub * picei)"
   ]
  },
  {
   "cell_type": "code",
   "execution_count": null,
   "metadata": {},
   "outputs": [],
   "source": []
  },
  {
   "cell_type": "markdown",
   "metadata": {},
   "source": [
    "Thessalov Sergei\n",
    "\n",
    "Excel\n",
    "https://pharmahub.org/resources/lyocalculator/supportingdocs\n",
    "\n",
    "https://link.springer.com/article/10.1208/s12249-019-1532-7\n"
   ]
  },
  {
   "cell_type": "markdown",
   "metadata": {},
   "source": []
  },
  {
   "cell_type": "markdown",
   "metadata": {},
   "source": []
  },
  {
   "cell_type": "code",
   "execution_count": null,
   "metadata": {},
   "outputs": [],
   "source": [
    "\n",
    "import matplotlib.pyplot as plt\n",
    "import matplotlib.path as mpath\n",
    "import numpy as np\n",
    "\n",
    "\n",
    "star = mpath.Path.unit_regular_star(6)\n",
    "circle = mpath.Path.unit_circle()\n",
    "# concatenate the circle with an internal cutout of the star\n",
    "verts = np.concatenate([circle.vertices, star.vertices[::-1, ...]])\n",
    "codes = np.concatenate([circle.codes, star.codes])\n",
    "cut_star = mpath.Path(verts, codes)\n",
    "\n",
    "T2_min = 236\n",
    "T2_max = 256\n",
    "T2_array = np.linspace(T2_min, T2_max, num_steps)\n",
    "\n",
    "# First approach\n",
    "P_2 = np.exp((24.01849 - 6144.96)/(T2_array +273))\n",
    "\n",
    "plt.plot(T2_array, P_2, '--r', marker=cut_star, markersize=15)\n",
    "plt.xlabel('T (K)')\n",
    "plt.ylabel('P ')\n",
    "plt.show()\n",
    "\n",
    "# P_2 = np.exp((24.01849 - 6144.96)/(T_sublsurf +273))\n"
   ]
  },
  {
   "cell_type": "code",
   "execution_count": null,
   "metadata": {},
   "outputs": [],
   "source": [
    "Kv = 2 * Hsub * m_ice_vial"
   ]
  },
  {
   "cell_type": "code",
   "execution_count": null,
   "metadata": {},
   "outputs": [],
   "source": [
    "# PLOT WITH TEMPERATURES\n",
    "\n",
    "import numpy as np\n",
    "import matplotlib.pyplot as plt\n",
    "\n",
    "t_array = np.linspace(0, T, num_steps)\n",
    "Tsub_array = np.full(shape=num_steps, fill_value=Tsub)\n",
    "# arr = np.arange(0, 11)\n",
    "\n",
    "Tshelf = Tshelf_r * t_array + Tshelf_i\n",
    "\n",
    "i=0\n",
    "for Tshelf_element in Tshelf:\n",
    "    print\n",
    "    if any(Tshelf) >= Tsub:\n",
    "        Tshelf[i] = Tsub\n",
    "    i += 1\n",
    "\n",
    "fig, ax = plt.subplots()\n",
    "ax.plot(t_array, Tsub_array, label='Tsub')\n",
    "ax.plot(t_array, Tshelf, label='Tshelf')\n",
    "\n",
    "plt.xlabel('t (s)')\n",
    "plt.ylabel('T (K)')\n",
    "# ax.axis('equal')\n",
    "leg = ax.legend()\n",
    "ax.axis([0, 3600, 213, 283]) # [xmin, xmax, ymin, ymax]\n",
    "plt.show()"
   ]
  },
  {
   "cell_type": "markdown",
   "metadata": {},
   "source": []
  }
 ],
 "metadata": {
  "kernelspec": {
   "display_name": "Python 3",
   "language": "python",
   "name": "python3"
  },
  "language_info": {
   "codemirror_mode": {
    "name": "ipython",
    "version": 3
   },
   "file_extension": ".py",
   "mimetype": "text/x-python",
   "name": "python",
   "nbconvert_exporter": "python",
   "pygments_lexer": "ipython3",
   "version": "3.11.5"
  },
  "orig_nbformat": 4
 },
 "nbformat": 4,
 "nbformat_minor": 2
}
