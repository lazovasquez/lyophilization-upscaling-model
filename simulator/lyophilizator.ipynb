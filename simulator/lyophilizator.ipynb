{
 "cells": [
  {
   "cell_type": "markdown",
   "metadata": {},
   "source": [
    "NOTES:\n",
    " 1) Examples of primary and secondary drying process\n",
    " 2) Primary Model with scale-up figures\n",
    " 3) Examples of applications of the scale-up model\n",
    " 4) Computational Fluid Dynamics Model\n",
    " 5) Next steps"
   ]
  },
  {
   "cell_type": "markdown",
   "metadata": {},
   "source": [
    "# SIMULATOR: Simplified model (Park et al. 2021):\n",
    "\n",
    "## 1. Heat transmitted to sensible heat\n",
    "\n",
    "<img src=\"eq1.png\" width=\"300\">\n",
    "\n",
    "1.1 Diffusion of a Gaussian Function\n",
    "\n",
    "https://fenicsproject.org/pub/tutorial/html/._ftut1006.html\n",
    "\n",
    "<img src=\"eq2.png\" width=\"300\">\n",
    "\n",
    "where the local temperature is defined by $u$.\n",
    "\n",
    "\n",
    "1.2. Heat equation\n",
    "\n",
    "https://fenics-handson.readthedocs.io/en/latest/heat/doc.html\n",
    "\n",
    "<img src=\"eq3.png\" width=\"300\">\n",
    "\n",
    "1.3. Heat equation in moving media\n",
    "\n",
    "<img src=\"eq4.png\" width=\"300\">\n",
    "\n",
    "Others\n",
    "https://fenicsproject.discourse.group/t/heat-equation-with-insulating-material/1325\n",
    "\n",
    "https://home.simula.no/~hpl/homepage/fenics-tutorial/release-1.0-nonabla/webm/timedep.html\n",
    "\n",
    "https://www.karlin.mff.cuni.cz/~hron/fenics-tutorial/heat/doc.html\n",
    "\n",
    "https://fenicsproject.discourse.group/t/transient-heat-conduction-problem/10625\n",
    "\n",
    "https://stackoverflow.com/questions/51763982/solving-the-heat-equation-by-fenics\n",
    "\n",
    "chrome-extension://efaidnbmnnnibpcajpcglclefindmkaj/https://mediatum.ub.tum.de/doc/1467488/1467488.pdf"
   ]
  },
  {
   "cell_type": "code",
   "execution_count": null,
   "metadata": {},
   "outputs": [],
   "source": []
  },
  {
   "cell_type": "code",
   "execution_count": null,
   "metadata": {},
   "outputs": [],
   "source": [
    "from fenics import *\n",
    "import time\n",
    "\n",
    "T = 2.0            # final time\n",
    "num_steps = 50     # number of time steps\n",
    "dt = T / num_steps # time step size\n",
    "\n",
    "# Create mesh and define function space\n",
    "nx = ny = 30\n",
    "mesh = RectangleMesh(Point(-2, -2), Point(2, 2), nx, ny)\n",
    "V = FunctionSpace(mesh, 'P', 1)\n",
    "\n",
    "# Define boundary condition\n",
    "def boundary(x, on_boundary):\n",
    "    return on_boundary\n",
    "\n",
    "bc = DirichletBC(V, Constant(0), boundary)\n",
    "\n",
    "# Define initial value\n",
    "u_0 = Expression('exp(-a*pow(x[0], 2) - a*pow(x[1], 2))',\n",
    "                 degree=2, a=5)\n",
    "u_n = interpolate(u_0, V)\n",
    "\n",
    "# Define variational problem\n",
    "u = TrialFunction(V)\n",
    "v = TestFunction(V)\n",
    "f = Constant(0)\n",
    "\n",
    "F = u*v*dx + dt*dot(grad(u), grad(v))*dx - (u_n + dt*f)*v*dx\n",
    "a, L = lhs(F), rhs(F)\n",
    "\n",
    "# Create VTK file for saving solution\n",
    "vtkfile = File('heat_gaussian/solution.pvd')\n",
    "\n",
    "# Time-stepping\n",
    "u = Function(V)\n",
    "t = 0\n",
    "for n in range(num_steps):\n",
    "\n",
    "    # Update current time\n",
    "    t += dt\n",
    "\n",
    "    # Compute solution\n",
    "    solve(a == L, u, bc)\n",
    "\n",
    "    # Save to file and plot solution\n",
    "    vtkfile << (u, t)\n",
    "    plot(u)\n",
    "\n",
    "    # Update previous solution\n",
    "    u_n.assign(u)\n",
    "\n",
    "# Hold plot\n",
    "# interactive()"
   ]
  },
  {
   "cell_type": "code",
   "execution_count": null,
   "metadata": {},
   "outputs": [],
   "source": []
  },
  {
   "cell_type": "markdown",
   "metadata": {},
   "source": [
    "Other notes\n",
    "\n",
    "Navier-Stokes equations\n",
    "\n",
    "https://fenics-handson.readthedocs.io/en/latest/navierstokes/doc.html\n",
    "\n",
    "https://home.simula.no/~hpl/homepage/fenics-tutorial/release-1.0-nonabla/webm/\n",
    "\n",
    "\n"
   ]
  },
  {
   "cell_type": "markdown",
   "metadata": {},
   "source": [
    "# LYOPHILIZATION EXERCISE AND APPROXIMATIONS\n",
    "\n",
    "https://www.studocu.com/bo/document/universidad-mayor-de-san-simon/laboratorio-de-quimica/chapter-lyophilization/28384324\n",
    "\n",
    "https://books.google.com.br/books?id=c5yMHputGh4C&pg=PA644&lpg=PA644&dq=karel+m+heat+and+mass+transfer+in+freeze-drying+//+freeze+drying+and+advanced+food+technology-+goldblith&source=bl&ots=u2_-plp5du&sig=ACfU3U1OSw25YvmDXHnCo1Ltbaov6q_hWw&hl=en&sa=X&ved=2ahUKEwi4v9SXl9OBAxV3j5UCHUEZD4EQ6AF6BAhuEAM#v=onepage&q=karel%20m%20heat%20and%20mass%20transfer%20in%20freeze-drying%20%2F%2F%20freeze%20drying%20and%20advanced%20food%20technology-%20goldblith&f=false\n"
   ]
  },
  {
   "cell_type": "markdown",
   "metadata": {},
   "source": []
  }
 ],
 "metadata": {
  "language_info": {
   "name": "python"
  },
  "orig_nbformat": 4
 },
 "nbformat": 4,
 "nbformat_minor": 2
}
