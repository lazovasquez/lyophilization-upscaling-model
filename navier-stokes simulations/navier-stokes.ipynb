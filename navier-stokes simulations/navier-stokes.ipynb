{
 "cells": [
  {
   "cell_type": "markdown",
   "metadata": {},
   "source": [
    "https://fenics-handson.readthedocs.io/en/latest/navierstokes/doc.html"
   ]
  },
  {
   "cell_type": "code",
   "execution_count": 1,
   "metadata": {},
   "outputs": [
    {
     "name": "stdout",
     "output_type": "stream",
     "text": [
      "Plotting Mesh\n"
     ]
    },
    {
     "data": {
      "text/plain": [
       "[<matplotlib.lines.Line2D at 0x118ca0ed0>]"
      ]
     },
     "execution_count": 1,
     "metadata": {},
     "output_type": "execute_result"
    },
    {
     "data": {
      "image/png": "[encoded data removed]",
      "text/plain": [
       "<Figure size 640x480 with 1 Axes>"
      ]
     },
     "metadata": {},
     "output_type": "display_data"
    }
   ],
   "source": [
    "from dolfin import *\n",
    "import matplotlib.pyplot as plt\n",
    "\n",
    "# Create mesh and define function space\n",
    "L = 2.2\n",
    "W = 0.41\n",
    "n_x = 8\n",
    "n_y = 8\n",
    "N_bulk = n_x * n_y\n",
    "\n",
    "# Define initial conditions\n",
    "U = 0.3\n",
    "# u_in = Expression((\"4.0*U*x[1]*(0.41 - x[1])/(0.41*0.41)\", \"0.0\"),\n",
    "#                   degree=2, U=U)\n",
    "\n",
    "u_in = Constant(U)\n",
    "nu = Constant(0.001)\n",
    "\n",
    "# Define mesh\n",
    "# mesh = RectangleMesh(Point(0,0), Point(L, W), n_x, n_y, \"right/left\")\n",
    "\n",
    "l_fenics = Constant(L)\n",
    "mesh = IntervalMesh(n_x, 0, l_fenics)\n",
    "print(\"Plotting Mesh\")\n",
    "plot(mesh, title=\"Mesh\")\n",
    "\n"
   ]
  },
  {
   "cell_type": "code",
   "execution_count": 2,
   "metadata": {},
   "outputs": [],
   "source": [
    "\n",
    "# Construct facet markers\n",
    "# bndry = MeshFunction(\"size_t\", mesh, mesh.topology().dim()-1)\n",
    "# for f in facets(mesh):\n",
    "#     mp = f.midpoint()\n",
    "#     if near(mp[0], 0.0):  # inflow\n",
    "#         bndry[f] = 1\n",
    "#     elif near(mp[0], L):  # outflow\n",
    "#         bndry[f] = 2\n",
    "#     elif near(mp[1], 0.0) or near(mp[1], W):  # walls\n",
    "#         bndry[f] = 3\n",
    "\n",
    "# # Dump facet markers to file to plot in Paraview\n",
    "# with XDMFFile('facets.xdmf') as f:\n",
    "#     f.write(bndry)\n",
    "\n"
   ]
  },
  {
   "cell_type": "code",
   "execution_count": 3,
   "metadata": {},
   "outputs": [],
   "source": [
    "# Build function spaces (Taylor-Hood)\n",
    "P2 = VectorElement(\"P\", mesh.ufl_cell(), 2)\n",
    "P1 = FiniteElement(\"P\", mesh.ufl_cell(), 1)\n",
    "TH = MixedElement([P2, P1])\n",
    "W = FunctionSpace(mesh, TH)"
   ]
  },
  {
   "cell_type": "code",
   "execution_count": 4,
   "metadata": {},
   "outputs": [],
   "source": [
    "w = Function (W)\n",
    "u, p = split(w)\n",
    "v, q = TestFunctions(W)"
   ]
  },
  {
   "cell_type": "code",
   "execution_count": 7,
   "metadata": {},
   "outputs": [],
   "source": [
    "# Inflow Dirichlet boundary condition\n",
    "def boundary(x):\n",
    "    return x[0] < DOLFIN_EPS\n",
    "\n",
    "variable1_dirichlet = Expression('reference1 + 0*x[0]', degree = 2, reference1 = Constant(U), domain = mesh)"
   ]
  },
  {
   "cell_type": "code",
   "execution_count": 8,
   "metadata": {},
   "outputs": [
    {
     "ename": "RuntimeError",
     "evalue": "\n\n*** -------------------------------------------------------------------------\n*** DOLFIN encountered an error. If you are not able to resolve this issue\n*** using the information listed below, you can ask for help at\n***\n***     fenics-support@googlegroups.com\n***\n*** Remember to include the error message listed below and, if possible,\n*** include a *minimal* running example to reproduce the error.\n***\n*** -------------------------------------------------------------------------\n*** Error:   Unable to create Dirichlet boundary condition.\n*** Reason:  Expecting a vector-valued boundary value but given function is scalar.\n*** Where:   This error was encountered inside DirichletBC.cpp.\n*** Process: 0\n*** \n*** DOLFIN version: 2019.1.0\n*** Git changeset:  \n*** -------------------------------------------------------------------------\n",
     "output_type": "error",
     "traceback": [
      "\u001b[0;31m---------------------------------------------------------------------------\u001b[0m",
      "\u001b[0;31mRuntimeError\u001b[0m                              Traceback (most recent call last)",
      "\u001b[1;32m/Users/lazovasquez/Documents/GitHub/lyophilization-scale-up-model/navier-stokes/navier-stokes.ipynb Cell 7\u001b[0m line \u001b[0;36m1\n\u001b[1;32m      <a href='vscode-notebook-cell:/Users/lazovasquez/Documents/GitHub/lyophilization-scale-up-model/navier-stokes/navier-stokes.ipynb#W6sZmlsZQ%3D%3D?line=6'>7</a>\u001b[0m     \u001b[39mreturn\u001b[39;00m (x[\u001b[39m0\u001b[39m] \u001b[39m<\u001b[39m DOLFIN_EPS) \u001b[39mand\u001b[39;00m on_boundary\n\u001b[1;32m      <a href='vscode-notebook-cell:/Users/lazovasquez/Documents/GitHub/lyophilization-scale-up-model/navier-stokes/navier-stokes.ipynb#W6sZmlsZQ%3D%3D?line=8'>9</a>\u001b[0m \u001b[39m# Define boundary condition\u001b[39;00m\n\u001b[0;32m---> <a href='vscode-notebook-cell:/Users/lazovasquez/Documents/GitHub/lyophilization-scale-up-model/navier-stokes/navier-stokes.ipynb#W6sZmlsZQ%3D%3D?line=9'>10</a>\u001b[0m bc \u001b[39m=\u001b[39m DirichletBC(W\u001b[39m.\u001b[39;49msub(\u001b[39m0\u001b[39;49m), variable1_dirichlet, Inflow)\n\u001b[1;32m     <a href='vscode-notebook-cell:/Users/lazovasquez/Documents/GitHub/lyophilization-scale-up-model/navier-stokes/navier-stokes.ipynb#W6sZmlsZQ%3D%3D?line=11'>12</a>\u001b[0m \u001b[39m# bc1 = DirichletBC (W.sub(0), u_in, Inflow)\u001b[39;00m\n",
      "File \u001b[0;32m/usr/local/anaconda3/envs/fenicsproject/lib/python3.11/site-packages/dolfin/fem/dirichletbc.py:131\u001b[0m, in \u001b[0;36mDirichletBC.__init__\u001b[0;34m(self, *args, **kwargs)\u001b[0m\n\u001b[1;32m    128\u001b[0m \u001b[39mif\u001b[39;00m (\u001b[39mlen\u001b[39m(kwargs) \u001b[39m>\u001b[39m \u001b[39m0\u001b[39m):\n\u001b[1;32m    129\u001b[0m     \u001b[39mraise\u001b[39;00m \u001b[39mRuntimeError\u001b[39;00m(\u001b[39m\"\u001b[39m\u001b[39mInvalid keyword arguments\u001b[39m\u001b[39m\"\u001b[39m, kwargs)\n\u001b[0;32m--> 131\u001b[0m \u001b[39msuper\u001b[39;49m()\u001b[39m.\u001b[39;49m\u001b[39m__init__\u001b[39;49m(\u001b[39m*\u001b[39;49margs)\n",
      "\u001b[0;31mRuntimeError\u001b[0m: \n\n*** -------------------------------------------------------------------------\n*** DOLFIN encountered an error. If you are not able to resolve this issue\n*** using the information listed below, you can ask for help at\n***\n***     fenics-support@googlegroups.com\n***\n*** Remember to include the error message listed below and, if possible,\n*** include a *minimal* running example to reproduce the error.\n***\n*** -------------------------------------------------------------------------\n*** Error:   Unable to create Dirichlet boundary condition.\n*** Reason:  Expecting a vector-valued boundary value but given function is scalar.\n*** Where:   This error was encountered inside DirichletBC.cpp.\n*** Process: 0\n*** \n*** DOLFIN version: 2019.1.0\n*** Git changeset:  \n*** -------------------------------------------------------------------------\n"
     ]
    }
   ],
   "source": [
    "\n",
    "# # Prepare Dirichlet boundary conditions\n",
    "# bc_walls = DirichletBC(W.sub(0), (0, 0), bndry, 3)\n",
    "# bc_in = DirichletBC(W.sub(0), u_in, bndry, 1)\n",
    "# bcs = [bc_walls, bc_in]\n",
    "\n",
    "def Inflow (x, on_boundary): \n",
    "    return (x[0] < DOLFIN_EPS) and on_boundary\n",
    "\n",
    "# Define boundary condition\n",
    "bc = DirichletBC(W.sub(0), variable1_dirichlet, Inflow)\n",
    "\n",
    "# bc1 = DirichletBC (W.sub(0), u_in, Inflow)\n",
    "\n",
    "\n"
   ]
  },
  {
   "cell_type": "code",
   "execution_count": 4,
   "metadata": {},
   "outputs": [],
   "source": [
    "# Build function spaces (Taylor-Hood)\n",
    "P2 = VectorElement(\"P\", mesh.ufl_cell(), 2)\n",
    "P1 = FiniteElement(\"P\", mesh.ufl_cell(), 1)\n",
    "TH = MixedElement([P2, P1])\n",
    "W = FunctionSpace(mesh, TH)\n",
    "\n",
    "# # Define trial and test functions\n",
    "# u, p = TrialFunctions(W)\n",
    "# v, q = TestFunctions(W)"
   ]
  },
  {
   "cell_type": "markdown",
   "metadata": {},
   "source": [
    "PLOT STEADY NAVIER STOKES"
   ]
  },
  {
   "cell_type": "code",
   "execution_count": 7,
   "metadata": {},
   "outputs": [],
   "source": [
    "# Define variational problem\n",
    "\n",
    "\n",
    "F = nu*inner(grad(u), grad(v))*dx + dot(dot(grad(u), u), v)*dx \\\n",
    "    - p*div(v)*dx - q*div(u)*dx\n",
    "\n",
    "# Compute directional derivative about u in the direction of du (Jacobian)\n",
    "J = derivative(F, w)\n"
   ]
  },
  {
   "cell_type": "code",
   "execution_count": 8,
   "metadata": {},
   "outputs": [
    {
     "ename": "RuntimeError",
     "evalue": "\n\n*** -------------------------------------------------------------------------\n*** DOLFIN encountered an error. If you are not able to resolve this issue\n*** using the information listed below, you can ask for help at\n***\n***     fenics-support@googlegroups.com\n***\n*** Remember to include the error message listed below and, if possible,\n*** include a *minimal* running example to reproduce the error.\n***\n*** -------------------------------------------------------------------------\n*** Error:   Unable to define nonlinear variational problem F(u; v) = 0 for all v.\n*** Reason:  Expecting the boundary conditions to to live on (a subspace of) the trial space.\n*** Where:   This error was encountered inside NonlinearVariationalProblem.cpp.\n*** Process: 0\n*** \n*** DOLFIN version: 2019.1.0\n*** Git changeset:  \n*** -------------------------------------------------------------------------\n",
     "output_type": "error",
     "traceback": [
      "\u001b[0;31m---------------------------------------------------------------------------\u001b[0m",
      "\u001b[0;31mRuntimeError\u001b[0m                              Traceback (most recent call last)",
      "\u001b[1;32m/Users/lazovasquez/Documents/GitHub/lyophilization-scale-up-model/navier-stokes/navier-stokes.ipynb Cell 8\u001b[0m line \u001b[0;36m2\n\u001b[1;32m      <a href='vscode-notebook-cell:/Users/lazovasquez/Documents/GitHub/lyophilization-scale-up-model/navier-stokes/navier-stokes.ipynb#X14sZmlsZQ%3D%3D?line=0'>1</a>\u001b[0m \u001b[39m# Create solver\u001b[39;00m\n\u001b[0;32m----> <a href='vscode-notebook-cell:/Users/lazovasquez/Documents/GitHub/lyophilization-scale-up-model/navier-stokes/navier-stokes.ipynb#X14sZmlsZQ%3D%3D?line=1'>2</a>\u001b[0m problem \u001b[39m=\u001b[39m NonlinearVariationalProblem(F, w, bcs, J)\n",
      "File \u001b[0;32m/usr/local/anaconda3/envs/fenicsproject/lib/python3.11/site-packages/dolfin/fem/problem.py:95\u001b[0m, in \u001b[0;36mNonlinearVariationalProblem.__init__\u001b[0;34m(self, F, u, bcs, J, form_compiler_parameters)\u001b[0m\n\u001b[1;32m     92\u001b[0m     J \u001b[39m=\u001b[39m Form(J, form_compiler_parameters\u001b[39m=\u001b[39mform_compiler_parameters)\n\u001b[1;32m     94\u001b[0m \u001b[39m# Initialize C++ base class\u001b[39;00m\n\u001b[0;32m---> 95\u001b[0m cpp\u001b[39m.\u001b[39;49mfem\u001b[39m.\u001b[39;49mNonlinearVariationalProblem\u001b[39m.\u001b[39;49m\u001b[39m__init__\u001b[39;49m(\u001b[39mself\u001b[39;49m, F, u\u001b[39m.\u001b[39;49m_cpp_object, bcs, J)\n",
      "\u001b[0;31mRuntimeError\u001b[0m: \n\n*** -------------------------------------------------------------------------\n*** DOLFIN encountered an error. If you are not able to resolve this issue\n*** using the information listed below, you can ask for help at\n***\n***     fenics-support@googlegroups.com\n***\n*** Remember to include the error message listed below and, if possible,\n*** include a *minimal* running example to reproduce the error.\n***\n*** -------------------------------------------------------------------------\n*** Error:   Unable to define nonlinear variational problem F(u; v) = 0 for all v.\n*** Reason:  Expecting the boundary conditions to to live on (a subspace of) the trial space.\n*** Where:   This error was encountered inside NonlinearVariationalProblem.cpp.\n*** Process: 0\n*** \n*** DOLFIN version: 2019.1.0\n*** Git changeset:  \n*** -------------------------------------------------------------------------\n"
     ]
    }
   ],
   "source": [
    "# Create solver\n",
    "problem = NonlinearVariationalProblem(F, w, bcs, J)"
   ]
  },
  {
   "cell_type": "code",
   "execution_count": null,
   "metadata": {},
   "outputs": [],
   "source": []
  },
  {
   "cell_type": "code",
   "execution_count": 9,
   "metadata": {},
   "outputs": [
    {
     "ename": "RuntimeError",
     "evalue": "\n\n*** -------------------------------------------------------------------------\n*** DOLFIN encountered an error. If you are not able to resolve this issue\n*** using the information listed below, you can ask for help at\n***\n***     fenics-support@googlegroups.com\n***\n*** Remember to include the error message listed below and, if possible,\n*** include a *minimal* running example to reproduce the error.\n***\n*** -------------------------------------------------------------------------\n*** Error:   Unable to define nonlinear variational problem F(u; v) = 0 for all v.\n*** Reason:  Expecting the boundary conditions to to live on (a subspace of) the trial space.\n*** Where:   This error was encountered inside NonlinearVariationalProblem.cpp.\n*** Process: 0\n*** \n*** DOLFIN version: 2019.1.0\n*** Git changeset:  \n*** -------------------------------------------------------------------------\n",
     "output_type": "error",
     "traceback": [
      "\u001b[0;31m---------------------------------------------------------------------------\u001b[0m",
      "\u001b[0;31mRuntimeError\u001b[0m                              Traceback (most recent call last)",
      "\u001b[1;32m/Users/lazovasquez/Documents/GitHub/lyophilization-scale-up-model/navier-stokes/navier-stokes.ipynb Cell 9\u001b[0m line \u001b[0;36m2\n\u001b[1;32m      <a href='vscode-notebook-cell:/Users/lazovasquez/Documents/GitHub/lyophilization-scale-up-model/navier-stokes/navier-stokes.ipynb#X13sZmlsZQ%3D%3D?line=0'>1</a>\u001b[0m \u001b[39m# Define transient solver function\u001b[39;00m\n\u001b[0;32m----> <a href='vscode-notebook-cell:/Users/lazovasquez/Documents/GitHub/lyophilization-scale-up-model/navier-stokes/navier-stokes.ipynb#X13sZmlsZQ%3D%3D?line=1'>2</a>\u001b[0m transientsolver \u001b[39m=\u001b[39m solver_linear (F, w, bcs, dF)\n\u001b[1;32m      <a href='vscode-notebook-cell:/Users/lazovasquez/Documents/GitHub/lyophilization-scale-up-model/navier-stokes/navier-stokes.ipynb#X13sZmlsZQ%3D%3D?line=2'>3</a>\u001b[0m transientsolver\u001b[39m.\u001b[39msolve ()\n",
      "\u001b[1;32m/Users/lazovasquez/Documents/GitHub/lyophilization-scale-up-model/navier-stokes/navier-stokes.ipynb Cell 9\u001b[0m line \u001b[0;36m4\n\u001b[1;32m      <a href='vscode-notebook-cell:/Users/lazovasquez/Documents/GitHub/lyophilization-scale-up-model/navier-stokes/navier-stokes.ipynb#X13sZmlsZQ%3D%3D?line=2'>3</a>\u001b[0m \u001b[39mdef\u001b[39;00m \u001b[39msolver_linear\u001b[39m (R_input, variable_input, bcs_input, dF_input): \u001b[39m# ,form_compiler_parameters_input):\u001b[39;00m\n\u001b[0;32m----> <a href='vscode-notebook-cell:/Users/lazovasquez/Documents/GitHub/lyophilization-scale-up-model/navier-stokes/navier-stokes.ipynb#X13sZmlsZQ%3D%3D?line=3'>4</a>\u001b[0m     problem \u001b[39m=\u001b[39m NonlinearVariationalProblem (R_input, variable_input, bcs \u001b[39m=\u001b[39;49m bcs_input, J \u001b[39m=\u001b[39;49m dF_input)\u001b[39m#, form_compiler_parameters = form_compiler_parameters_input)\u001b[39;00m\n\u001b[1;32m      <a href='vscode-notebook-cell:/Users/lazovasquez/Documents/GitHub/lyophilization-scale-up-model/navier-stokes/navier-stokes.ipynb#X13sZmlsZQ%3D%3D?line=5'>6</a>\u001b[0m     transientsolver \u001b[39m=\u001b[39m NonlinearVariationalSolver (problem)\n\u001b[1;32m      <a href='vscode-notebook-cell:/Users/lazovasquez/Documents/GitHub/lyophilization-scale-up-model/navier-stokes/navier-stokes.ipynb#X13sZmlsZQ%3D%3D?line=7'>8</a>\u001b[0m     prm \u001b[39m=\u001b[39m transientsolver\u001b[39m.\u001b[39mparameters\n",
      "File \u001b[0;32m/usr/local/anaconda3/envs/fenicsproject/lib/python3.11/site-packages/dolfin/fem/problem.py:95\u001b[0m, in \u001b[0;36mNonlinearVariationalProblem.__init__\u001b[0;34m(self, F, u, bcs, J, form_compiler_parameters)\u001b[0m\n\u001b[1;32m     92\u001b[0m     J \u001b[39m=\u001b[39m Form(J, form_compiler_parameters\u001b[39m=\u001b[39mform_compiler_parameters)\n\u001b[1;32m     94\u001b[0m \u001b[39m# Initialize C++ base class\u001b[39;00m\n\u001b[0;32m---> 95\u001b[0m cpp\u001b[39m.\u001b[39;49mfem\u001b[39m.\u001b[39;49mNonlinearVariationalProblem\u001b[39m.\u001b[39;49m\u001b[39m__init__\u001b[39;49m(\u001b[39mself\u001b[39;49m, F, u\u001b[39m.\u001b[39;49m_cpp_object, bcs, J)\n",
      "\u001b[0;31mRuntimeError\u001b[0m: \n\n*** -------------------------------------------------------------------------\n*** DOLFIN encountered an error. If you are not able to resolve this issue\n*** using the information listed below, you can ask for help at\n***\n***     fenics-support@googlegroups.com\n***\n*** Remember to include the error message listed below and, if possible,\n*** include a *minimal* running example to reproduce the error.\n***\n*** -------------------------------------------------------------------------\n*** Error:   Unable to define nonlinear variational problem F(u; v) = 0 for all v.\n*** Reason:  Expecting the boundary conditions to to live on (a subspace of) the trial space.\n*** Where:   This error was encountered inside NonlinearVariationalProblem.cpp.\n*** Process: 0\n*** \n*** DOLFIN version: 2019.1.0\n*** Git changeset:  \n*** -------------------------------------------------------------------------\n"
     ]
    }
   ],
   "source": [
    "# Define transient solver function\n",
    "\n",
    "problem = NonlinearVariationalProblem (F, w, bcs = bcs, J = dF)#, form_compiler_parameters = form_compiler_parameters_input)\n",
    "\n",
    "transientsolver = NonlinearVariationalSolver (problem)\n",
    "\n",
    "transientsolver = solver_linear (F, w, bcs, dF)\n",
    "transientsolver.solve ()"
   ]
  },
  {
   "cell_type": "code",
   "execution_count": null,
   "metadata": {},
   "outputs": [],
   "source": [
    "\n",
    "\n",
    "# Split of the vector var\n",
    "(variable1, variable2, variable3, variable4) = variable.split (deepcopy = True)\n",
    "\n",
    "problem = NonlinearVariationalProblem (R_input, variable_input, bcs = bcs_input, J = dF_input)#, form_compiler_parameters = form_compiler_parameters_input)\n",
    "\n",
    "transientsolver = NonlinearVariationalSolver (problem)\n"
   ]
  },
  {
   "cell_type": "code",
   "execution_count": null,
   "metadata": {},
   "outputs": [],
   "source": [
    "# Save solution in VTK format\n",
    "file = File(\"poisson.pvd\")\n",
    "file << u\n",
    "\n",
    "# Plot solution\n",
    "plot(u)\n",
    "plt.show()"
   ]
  }
 ],
 "metadata": {
  "kernelspec": {
   "display_name": "Python 3",
   "language": "python",
   "name": "python3"
  },
  "language_info": {
   "codemirror_mode": {
    "name": "ipython",
    "version": 3
   },
   "file_extension": ".py",
   "mimetype": "text/x-python",
   "name": "python",
   "nbconvert_exporter": "python",
   "pygments_lexer": "ipython3",
   "version": "3.11.5"
  },
  "orig_nbformat": 4
 },
 "nbformat": 4,
 "nbformat_minor": 2
}
