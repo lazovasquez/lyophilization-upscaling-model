{
 "cells": [
  {
   "cell_type": "code",
   "execution_count": null,
   "metadata": {},
   "outputs": [],
   "source": [
    "function F = lyo (T)\n",
    "global R0 A1 A2 Ap Kv Kc Kp KD Av Ts pc lmax l;\n",
    "R=R_FUN(R0,A1,A2,l);\n",
    "p0=p0_FUN(T);\n",
    "DT=DT_FUN(lmax,l,p0,pc,R,Ts,T);\n",
    "F=p0-pc-Av/Ap*Kv*R*(Ts-T-DT)/1833;\n",
    "end\n",
    "\n",
    "\n",
    "function F = Kv_FUN(pc,Kc,Kp,KD)\n",
    "F=Kc+(Kp*pc)/(1+KD*pc);\n",
    "end\n",
    "\n",
    "\n",
    "function F = sublimation_rate(Ap,p0,pc,R)\n",
    "F=Ap*(p0-pc)/R;\n",
    "end\n"
   ]
  }
 ],
 "metadata": {
  "language_info": {
   "name": "python"
  },
  "orig_nbformat": 4
 },
 "nbformat": 4,
 "nbformat_minor": 2
}
