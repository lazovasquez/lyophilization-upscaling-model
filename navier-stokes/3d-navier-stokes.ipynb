{
 "cells": [
  {
   "cell_type": "code",
   "execution_count": 2,
   "metadata": {},
   "outputs": [],
   "source": [
    "from dolfin import *\n",
    "# from msh2xdmf import import_mesh_from_xdmf, msh2xdmf\n"
   ]
  },
  {
   "cell_type": "code",
   "execution_count": null,
   "metadata": {},
   "outputs": [],
   "source": []
  },
  {
   "cell_type": "code",
   "execution_count": null,
   "metadata": {},
   "outputs": [],
   "source": [
    "\n",
    "# MAKE CFD\n",
    "def sim_flow(u_0, nu, cp, k, p_0, T_0, fileName, Le, He, We):\n",
    "    \n",
    "    # LOAD MESH\n",
    "    \n",
    "    mesh, boundaries, association_table = import_mesh_from_xdmf(prefix=fileName, dim=3)\n",
    "    \n",
    "    # Build function space\n",
    "    P2 = VectorElement('Lagrange', mesh.ufl_cell() , 2)\n",
    "    P1 = FiniteElement('Lagrange', mesh.ufl_cell(), 1)\n",
    "    element = MixedElement([P2, P1, P1])\n",
    "    W = FunctionSpace(mesh, element)\n",
    "    #define test functions\n",
    "    (v, q, s) = TestFunctions(W)\n",
    "    #split functions\n",
    "    upT = Function(W)\n",
    "    (u, p, T) = split(upT)\n",
    "\n",
    "    n = FacetNormal(mesh)\n",
    "    \n",
    "    # Define boundary conditions\n",
    "    # FLOW\n",
    "    # Define inflow profile from Shah & London 1976 (velocity profile in a rectangular duct)\n",
    "    alpha = min(We/He, He/We) # <1\n",
    "    mv = 1.7 + 0.5 * alpha**-1.4\n",
    "    if alpha<=1./3.:\n",
    "        nv = 2\n",
    "    else:\n",
    "        nv = 2 + 0.3 * (alpha - 1./3.)\n",
    "    Umax = u_0 * (mv+1)/mv * (nv+1)/nv\n",
    "    print(\"alpha, m, n, Umax = \", alpha, mv, nv, Umax)\n",
    "    inflow_profile = ('0', '0', 'Umax * (1. - pow(abs(x[0]/H*2), n)) * (1. -  pow(abs(x[1]/W*2), m))')\n",
    "    inflow_profile = Expression(inflow_profile, Umax=Constant(Umax), H=Constant(He), W=Constant(We), m=Constant(mv), n=Constant(nv), degree=2)\n",
    "    bcu_inflow = DirichletBC(W.sub(0), inflow_profile, boundaries, association_table[\"inlet\"])\n",
    "    bcu_noslip = DirichletBC(W.sub(0), Constant((0, 0 ,0 )), boundaries, association_table[\"noslip\"])\n",
    "    bcu_outflow = DirichletBC(W.sub(1), Constant(p_0), boundaries, association_table[\"outlet\"])\n",
    "    bcu = [bcu_inflow, bcu_noslip, bcu_outflow]\n",
    "    \n",
    "    # ENERGY\n",
    "    bcT_inflow = DirichletBC(W.sub(2), Constant(T_0), boundaries, association_table[\"inlet\"])\n",
    "    bcT_noslip = DirichletBC(W.sub(2), Constant(T_0+10.), boundaries, association_table[\"noslip\"])\n",
    "    bcT = [bcT_inflow, bcT_noslip]\n",
    "    \n",
    "    bcs = bcu + bcT\n",
    "    \n",
    "    # DEFINE VARIATIONAL FORM\n",
    "     \n",
    "    F1 = (inner(grad(u)*u, v)*dx +                 # Momentum advection term\n",
    "        nu*inner(grad(u), grad(v))*dx -          # Momentum diffusion term\n",
    "        inner(p, div(v))*dx +                    # Pressure term\n",
    "        div(u)*q*dx                            # Divergence term\n",
    "    ) \n",
    "    F2 = (cp*inner(dot(grad(T), u), s)*dx - # Energy advection term\n",
    "        k*inner(grad(T), grad(s))*dx # Energy diffusion term\n",
    "    )\n",
    "    F = F1 + F2\n",
    "    \n",
    "    # Create VTK files for visualization output\n",
    "    vtkfile_u = File('results/u.pvd')\n",
    "    vtkfile_p = File('results/p.pvd')\n",
    "    vtkfile_T = File('results/T.pvd')"
   ]
  }
 ],
 "metadata": {
  "kernelspec": {
   "display_name": "Python 3",
   "language": "python",
   "name": "python3"
  },
  "language_info": {
   "codemirror_mode": {
    "name": "ipython",
    "version": 3
   },
   "file_extension": ".py",
   "mimetype": "text/x-python",
   "name": "python",
   "nbconvert_exporter": "python",
   "pygments_lexer": "ipython3",
   "version": "3.11.5"
  },
  "orig_nbformat": 4
 },
 "nbformat": 4,
 "nbformat_minor": 2
}
