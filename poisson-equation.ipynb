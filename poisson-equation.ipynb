{
 "cells": [
  {
   "cell_type": "code",
   "execution_count": 2,
   "metadata": {},
   "outputs": [],
   "source": [
    "from dolfin import *"
   ]
  },
  {
   "cell_type": "code",
   "execution_count": 3,
   "metadata": {},
   "outputs": [
    {
     "name": "stdout",
     "output_type": "stream",
     "text": [
      "Calling FFC just-in-time (JIT) compiler, this may take some time.\n"
     ]
    },
    {
     "name": "stderr",
     "output_type": "stream",
     "text": [
      "------------------- Start compiler output ------------------------\n",
      "xcrun: error: invalid active developer path (/Library/Developer/CommandLineTools), missing xcrun at: /Library/Developer/CommandLineTools/usr/bin/xcrun\n",
      "\n",
      "-------------------  End compiler output  ------------------------\n",
      "Compilation failed! Sources, command, and errors have been written to: /Users/davidvasquez/Documents/GitHub/lyophilization-scale-up-model/jitfailure-ffc_element_2d4ff644b3dd83803fb1e898ba9f33b754e32fa8\n"
     ]
    },
    {
     "ename": "DijitsoError",
     "evalue": "Dijitso JIT compilation failed, see '/Users/davidvasquez/Documents/GitHub/lyophilization-scale-up-model/jitfailure-ffc_element_2d4ff644b3dd83803fb1e898ba9f33b754e32fa8' for details",
     "output_type": "error",
     "traceback": [
      "\u001b[0;31m---------------------------------------------------------------------------\u001b[0m",
      "\u001b[0;31mDijitsoError\u001b[0m                              Traceback (most recent call last)",
      "\u001b[1;32m/Users/davidvasquez/Documents/GitHub/lyophilization-scale-up-model/poisson-equation.ipynb Cell 2\u001b[0m line \u001b[0;36m3\n\u001b[1;32m      <a href='vscode-notebook-cell:/Users/davidvasquez/Documents/GitHub/lyophilization-scale-up-model/poisson-equation.ipynb#W1sZmlsZQ%3D%3D?line=0'>1</a>\u001b[0m \u001b[39m# Create mesh and define function space\u001b[39;00m\n\u001b[1;32m      <a href='vscode-notebook-cell:/Users/davidvasquez/Documents/GitHub/lyophilization-scale-up-model/poisson-equation.ipynb#W1sZmlsZQ%3D%3D?line=1'>2</a>\u001b[0m mesh \u001b[39m=\u001b[39m UnitSquareMesh(\u001b[39m32\u001b[39m, \u001b[39m32\u001b[39m)\n\u001b[0;32m----> <a href='vscode-notebook-cell:/Users/davidvasquez/Documents/GitHub/lyophilization-scale-up-model/poisson-equation.ipynb#W1sZmlsZQ%3D%3D?line=2'>3</a>\u001b[0m V \u001b[39m=\u001b[39m FunctionSpace(mesh, \u001b[39m\"\u001b[39;49m\u001b[39mLagrange\u001b[39;49m\u001b[39m\"\u001b[39;49m, \u001b[39m1\u001b[39;49m)\n",
      "File \u001b[0;32m~/opt/anaconda3/envs/fenicsproject/lib/python3.11/site-packages/dolfin/function/functionspace.py:33\u001b[0m, in \u001b[0;36mFunctionSpace.__init__\u001b[0;34m(self, *args, **kwargs)\u001b[0m\n\u001b[1;32m     31\u001b[0m     \u001b[39mself\u001b[39m\u001b[39m.\u001b[39m_init_from_ufl(\u001b[39m*\u001b[39margs, \u001b[39m*\u001b[39m\u001b[39m*\u001b[39mkwargs)\n\u001b[1;32m     32\u001b[0m \u001b[39melse\u001b[39;00m:\n\u001b[0;32m---> 33\u001b[0m     \u001b[39mself\u001b[39;49m\u001b[39m.\u001b[39;49m_init_convenience(\u001b[39m*\u001b[39;49margs, \u001b[39m*\u001b[39;49m\u001b[39m*\u001b[39;49mkwargs)\n",
      "File \u001b[0;32m~/opt/anaconda3/envs/fenicsproject/lib/python3.11/site-packages/dolfin/function/functionspace.py:100\u001b[0m, in \u001b[0;36mFunctionSpace._init_convenience\u001b[0;34m(self, mesh, family, degree, form_degree, constrained_domain, restriction)\u001b[0m\n\u001b[1;32m     93\u001b[0m \u001b[39mdef\u001b[39;00m \u001b[39m_init_convenience\u001b[39m(\u001b[39mself\u001b[39m, mesh, family, degree, form_degree\u001b[39m=\u001b[39m\u001b[39mNone\u001b[39;00m,\n\u001b[1;32m     94\u001b[0m                       constrained_domain\u001b[39m=\u001b[39m\u001b[39mNone\u001b[39;00m, restriction\u001b[39m=\u001b[39m\u001b[39mNone\u001b[39;00m):\n\u001b[1;32m     95\u001b[0m \n\u001b[1;32m     96\u001b[0m     \u001b[39m# Create UFL element\u001b[39;00m\n\u001b[1;32m     97\u001b[0m     element \u001b[39m=\u001b[39m ufl\u001b[39m.\u001b[39mFiniteElement(family, mesh\u001b[39m.\u001b[39mufl_cell(), degree,\n\u001b[1;32m     98\u001b[0m                                 form_degree\u001b[39m=\u001b[39mform_degree)\n\u001b[0;32m--> 100\u001b[0m     \u001b[39mself\u001b[39;49m\u001b[39m.\u001b[39;49m_init_from_ufl(mesh, element, constrained_domain\u001b[39m=\u001b[39;49mconstrained_domain)\n",
      "File \u001b[0;32m~/opt/anaconda3/envs/fenicsproject/lib/python3.11/site-packages/dolfin/function/functionspace.py:42\u001b[0m, in \u001b[0;36mFunctionSpace._init_from_ufl\u001b[0;34m(self, mesh, element, constrained_domain)\u001b[0m\n\u001b[1;32m     39\u001b[0m ufl\u001b[39m.\u001b[39mFunctionSpace\u001b[39m.\u001b[39m\u001b[39m__init__\u001b[39m(\u001b[39mself\u001b[39m, mesh\u001b[39m.\u001b[39mufl_domain(), element)\n\u001b[1;32m     41\u001b[0m \u001b[39m# Compile dofmap and element\u001b[39;00m\n\u001b[0;32m---> 42\u001b[0m ufc_element, ufc_dofmap \u001b[39m=\u001b[39m ffc_jit(element, form_compiler_parameters\u001b[39m=\u001b[39;49m\u001b[39mNone\u001b[39;49;00m,\n\u001b[1;32m     43\u001b[0m                                   mpi_comm\u001b[39m=\u001b[39;49mmesh\u001b[39m.\u001b[39;49mmpi_comm())\n\u001b[1;32m     44\u001b[0m ufc_element \u001b[39m=\u001b[39m cpp\u001b[39m.\u001b[39mfem\u001b[39m.\u001b[39mmake_ufc_finite_element(ufc_element)\n\u001b[1;32m     46\u001b[0m \u001b[39m# Create DOLFIN element and dofmap\u001b[39;00m\n",
      "File \u001b[0;32m~/opt/anaconda3/envs/fenicsproject/lib/python3.11/site-packages/dolfin/jit/jit.py:47\u001b[0m, in \u001b[0;36mmpi_jit_decorator.<locals>.mpi_jit\u001b[0;34m(*args, **kwargs)\u001b[0m\n\u001b[1;32m     45\u001b[0m \u001b[39m# Just call JIT compiler when running in serial\u001b[39;00m\n\u001b[1;32m     46\u001b[0m \u001b[39mif\u001b[39;00m MPI\u001b[39m.\u001b[39msize(mpi_comm) \u001b[39m==\u001b[39m \u001b[39m1\u001b[39m:\n\u001b[0;32m---> 47\u001b[0m     \u001b[39mreturn\u001b[39;00m local_jit(\u001b[39m*\u001b[39;49margs, \u001b[39m*\u001b[39;49m\u001b[39m*\u001b[39;49mkwargs)\n\u001b[1;32m     49\u001b[0m \u001b[39m# Default status (0 == ok, 1 == fail)\u001b[39;00m\n\u001b[1;32m     50\u001b[0m status \u001b[39m=\u001b[39m \u001b[39m0\u001b[39m\n",
      "File \u001b[0;32m~/opt/anaconda3/envs/fenicsproject/lib/python3.11/site-packages/dolfin/jit/jit.py:97\u001b[0m, in \u001b[0;36mffc_jit\u001b[0;34m(ufl_form, form_compiler_parameters)\u001b[0m\n\u001b[1;32m     95\u001b[0m p\u001b[39m.\u001b[39mupdate(\u001b[39mdict\u001b[39m(parameters[\u001b[39m\"\u001b[39m\u001b[39mform_compiler\u001b[39m\u001b[39m\"\u001b[39m]))\n\u001b[1;32m     96\u001b[0m p\u001b[39m.\u001b[39mupdate(form_compiler_parameters \u001b[39mor\u001b[39;00m {})\n\u001b[0;32m---> 97\u001b[0m \u001b[39mreturn\u001b[39;00m ffc\u001b[39m.\u001b[39;49mjit(ufl_form, parameters\u001b[39m=\u001b[39;49mp)\n",
      "File \u001b[0;32m~/opt/anaconda3/envs/fenicsproject/lib/python3.11/site-packages/ffc/jitcompiler.py:217\u001b[0m, in \u001b[0;36mjit\u001b[0;34m(ufl_object, parameters, indirect)\u001b[0m\n\u001b[1;32m    214\u001b[0m kind, module_name \u001b[39m=\u001b[39m compute_jit_prefix(ufl_object, parameters)\n\u001b[1;32m    216\u001b[0m \u001b[39m# Inspect cache and generate+build if necessary\u001b[39;00m\n\u001b[0;32m--> 217\u001b[0m module \u001b[39m=\u001b[39m jit_build(ufl_object, module_name, parameters)\n\u001b[1;32m    219\u001b[0m \u001b[39m# Raise exception on failure to build or import module\u001b[39;00m\n\u001b[1;32m    220\u001b[0m \u001b[39mif\u001b[39;00m module \u001b[39mis\u001b[39;00m \u001b[39mNone\u001b[39;00m:\n\u001b[1;32m    221\u001b[0m     \u001b[39m# TODO: To communicate directory name here, need dijitso params to call\u001b[39;00m\n\u001b[1;32m    222\u001b[0m     \u001b[39m#fail_dir = dijitso.cache.create_fail_dir_path(signature, dijitso_cache_params)\u001b[39;00m\n",
      "File \u001b[0;32m~/opt/anaconda3/envs/fenicsproject/lib/python3.11/site-packages/ffc/jitcompiler.py:130\u001b[0m, in \u001b[0;36mjit_build\u001b[0;34m(ufl_object, module_name, parameters)\u001b[0m\n\u001b[1;32m    123\u001b[0m params \u001b[39m=\u001b[39m dijitso\u001b[39m.\u001b[39mvalidate_params({\n\u001b[1;32m    124\u001b[0m     \u001b[39m\"\u001b[39m\u001b[39mcache\u001b[39m\u001b[39m\"\u001b[39m: cache_params,\n\u001b[1;32m    125\u001b[0m     \u001b[39m\"\u001b[39m\u001b[39mbuild\u001b[39m\u001b[39m\"\u001b[39m: build_params,\n\u001b[1;32m    126\u001b[0m     \u001b[39m\"\u001b[39m\u001b[39mgenerator\u001b[39m\u001b[39m\"\u001b[39m: parameters,  \u001b[39m# ffc parameters, just passed on to jit_generate\u001b[39;00m\n\u001b[1;32m    127\u001b[0m })\n\u001b[1;32m    129\u001b[0m \u001b[39m# Carry out jit compilation, calling jit_generate only if needed\u001b[39;00m\n\u001b[0;32m--> 130\u001b[0m module, signature \u001b[39m=\u001b[39m dijitso\u001b[39m.\u001b[39;49mjit(jitable\u001b[39m=\u001b[39;49mufl_object,\n\u001b[1;32m    131\u001b[0m                                 name\u001b[39m=\u001b[39;49mmodule_name,\n\u001b[1;32m    132\u001b[0m                                 params\u001b[39m=\u001b[39;49mparams,\n\u001b[1;32m    133\u001b[0m                                 generate\u001b[39m=\u001b[39;49mjit_generate)\n\u001b[1;32m    134\u001b[0m \u001b[39mreturn\u001b[39;00m module\n",
      "File \u001b[0;32m~/opt/anaconda3/envs/fenicsproject/lib/python3.11/site-packages/dijitso/jit.py:216\u001b[0m, in \u001b[0;36mjit\u001b[0;34m(jitable, name, params, generate, send, receive, wait)\u001b[0m\n\u001b[1;32m    212\u001b[0m     lib \u001b[39m=\u001b[39m load_library(signature, cache_params)\n\u001b[1;32m    214\u001b[0m \u001b[39mif\u001b[39;00m err_info:\n\u001b[1;32m    215\u001b[0m     \u001b[39m# TODO: Parse output to find error(s) for better error messages\u001b[39;00m\n\u001b[0;32m--> 216\u001b[0m     \u001b[39mraise\u001b[39;00m DijitsoError(\u001b[39m\"\u001b[39m\u001b[39mDijitso JIT compilation failed, see \u001b[39m\u001b[39m'\u001b[39m\u001b[39m%s\u001b[39;00m\u001b[39m'\u001b[39m\u001b[39m for details\u001b[39m\u001b[39m\"\u001b[39m\n\u001b[1;32m    217\u001b[0m                        \u001b[39m%\u001b[39m err_info[\u001b[39m'\u001b[39m\u001b[39mfail_dir\u001b[39m\u001b[39m'\u001b[39m], err_info)\n\u001b[1;32m    219\u001b[0m \u001b[39m# Return built library and its signature\u001b[39;00m\n\u001b[1;32m    220\u001b[0m \u001b[39mreturn\u001b[39;00m lib, signature\n",
      "\u001b[0;31mDijitsoError\u001b[0m: Dijitso JIT compilation failed, see '/Users/davidvasquez/Documents/GitHub/lyophilization-scale-up-model/jitfailure-ffc_element_2d4ff644b3dd83803fb1e898ba9f33b754e32fa8' for details"
     ]
    }
   ],
   "source": [
    "# Create mesh and define function space\n",
    "mesh = UnitSquareMesh(32, 32)\n",
    "V = FunctionSpace(mesh, \"Lagrange\", 1)"
   ]
  },
  {
   "cell_type": "code",
   "execution_count": null,
   "metadata": {},
   "outputs": [],
   "source": []
  }
 ],
 "metadata": {
  "kernelspec": {
   "display_name": "fenicsproject",
   "language": "python",
   "name": "python3"
  },
  "language_info": {
   "codemirror_mode": {
    "name": "ipython",
    "version": 3
   },
   "file_extension": ".py",
   "mimetype": "text/x-python",
   "name": "python",
   "nbconvert_exporter": "python",
   "pygments_lexer": "ipython3",
   "version": "3.11.0"
  },
  "orig_nbformat": 4
 },
 "nbformat": 4,
 "nbformat_minor": 2
}
