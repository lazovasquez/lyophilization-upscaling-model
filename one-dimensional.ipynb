{
 "cells": [
  {
   "cell_type": "markdown",
   "metadata": {},
   "source": [
    "Import libraries"
   ]
  },
  {
   "cell_type": "code",
   "execution_count": 2,
   "metadata": {},
   "outputs": [
    {
     "ename": "ModuleNotFoundError",
     "evalue": "No module named 'dolfin'",
     "output_type": "error",
     "traceback": [
      "\u001b[0;31m---------------------------------------------------------------------------\u001b[0m",
      "\u001b[0;31mModuleNotFoundError\u001b[0m                       Traceback (most recent call last)",
      "\u001b[1;32m/Users/lazovasquez/Documents/GitHub/lyophilization-scale-up-model/one-dimensional.ipynb Cell 2\u001b[0m line \u001b[0;36m2\n\u001b[1;32m      <a href='vscode-notebook-cell:/Users/lazovasquez/Documents/GitHub/lyophilization-scale-up-model/one-dimensional.ipynb#W0sZmlsZQ%3D%3D?line=0'>1</a>\u001b[0m \u001b[39mimport\u001b[39;00m \u001b[39mnumpy\u001b[39;00m \u001b[39mas\u001b[39;00m \u001b[39mnp\u001b[39;00m\n\u001b[0;32m----> <a href='vscode-notebook-cell:/Users/lazovasquez/Documents/GitHub/lyophilization-scale-up-model/one-dimensional.ipynb#W0sZmlsZQ%3D%3D?line=1'>2</a>\u001b[0m \u001b[39mimport\u001b[39;00m \u001b[39mdolfin\u001b[39;00m\n",
      "\u001b[0;31mModuleNotFoundError\u001b[0m: No module named 'dolfin'"
     ]
    }
   ],
   "source": [
    "import numpy as np\n",
    "import dolfin\n",
    "\n",
    "\n",
    "# # Check for debugging of buildbot failures\n",
    "# import os\n",
    "# if MPI.size(mpi_comm_world()) > 1 and not bool(int(os.environ.get(\"DOLFIN_NOPLOT\", \"0\"))):\n",
    "#     raise RuntimeError(\"When running this demo in parallel, DOLFIN_NOPLOT must be set to disable the plot windows.\")\n"
   ]
  },
  {
   "cell_type": "markdown",
   "metadata": {},
   "source": [
    "Mesh"
   ]
  },
  {
   "cell_type": "code",
   "execution_count": null,
   "metadata": {},
   "outputs": [],
   "source": [
    "# Unit interval mesh\n",
    "mesh = UnitIntervalMesh.dolfin(10)\n",
    "print(\"Plotting a UnitIntervalMesh\")\n",
    "plot.dolfin(mesh, title=\"Unit interval\")\n",
    "\n",
    "# # Unit square mesh\n",
    "# mesh = UnitSquareMesh.dolfin(10, 10)\n",
    "# print(\"Plotting a UnitSquareMesh\")\n",
    "# plot.dolfin(mesh, title=\"Unit square\")\n",
    "\n",
    "# mesh = UnitSquareMesh(10, 10, \"left\")\n",
    "# print(\"Plotting a UnitSquareMesh\")\n",
    "# plot(mesh, title=\"Unit square (left)\")\n",
    "\n",
    "# mesh = UnitSquareMesh(10, 10, \"crossed\")\n",
    "# print(\"Plotting a UnitSquareMesh\")\n",
    "# plot(mesh, title=\"Unit square (crossed)\")\n",
    "\n",
    "# mesh = UnitSquareMesh(10, 10, \"right/left\")\n",
    "# print(\"Plotting a UnitSquareMesh\")\n",
    "# plot(mesh, title=\"Unit square (right/left)\")\n",
    "\n",
    "interactive()"
   ]
  }
 ],
 "metadata": {
  "kernelspec": {
   "display_name": "base",
   "language": "python",
   "name": "python3"
  },
  "language_info": {
   "codemirror_mode": {
    "name": "ipython",
    "version": 3
   },
   "file_extension": ".py",
   "mimetype": "text/x-python",
   "name": "python",
   "nbconvert_exporter": "python",
   "pygments_lexer": "ipython3",
   "version": "3.11.4"
  },
  "orig_nbformat": 4
 },
 "nbformat": 4,
 "nbformat_minor": 2
}
