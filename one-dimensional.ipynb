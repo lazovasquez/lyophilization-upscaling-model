{
 "cells": [
  {
   "cell_type": "markdown",
   "metadata": {},
   "source": [
    "Import libraries"
   ]
  },
  {
   "cell_type": "code",
   "execution_count": 1,
   "metadata": {},
   "outputs": [],
   "source": [
    "#!/usr/bin/env python3\n",
    "\n",
    "import numpy as np\n",
    "# from fenics import *\n",
    "import fenics\n",
    "from IPython.display import clear_output\n",
    "import matplotlib.pyplot as plt\n",
    "\n",
    "\n",
    "# from IPython.display import clear_output  \n",
    "# from math import pi\n",
    "# from matplotlib import (rc, style)\n",
    "# from matplotlib.ticker import (MultipleLocator, FormatStrFormatter, AutoMinorLocator)\n",
    "# from mpl_toolkits.mplot3d import Axes3D\n",
    "# from numpy import linalg as LA\n",
    "# from scipy import (linalg, matrix, sparse)\n",
    "# from scipy.interpolate import interp1d\n",
    "# from scipy.linalg import (eigvals, eig)\n",
    "# from scipy.misc import derivative as dtv\n",
    "# from scipy.optimize import (brenth, fsolve)\n",
    "# from scipy.sparse.linalg import eigs\n",
    "# from scipy.sparse import csr_matrix\n",
    "\n",
    "# import math\n",
    "# import matplotlib\n",
    "# import matplotlib.font_manager\n",
    "# import matplotlib.ticker as mtick\n",
    "# import numpy as np\n",
    "# import pprint\n",
    "# import scipy.signal\n",
    "# import time\n",
    "# import ufl\n"
   ]
  },
  {
   "cell_type": "markdown",
   "metadata": {},
   "source": [
    "Parameters"
   ]
  },
  {
   "cell_type": "code",
   "execution_count": 2,
   "metadata": {},
   "outputs": [],
   "source": [
    "# Number of elements\n",
    "nx = 10\n",
    "\n",
    "# Element spaces\n",
    "element_type = \"Lagrange\" \n",
    "\n",
    "# Degree of basis functions\n",
    "element_degree = 1"
   ]
  },
  {
   "cell_type": "markdown",
   "metadata": {},
   "source": [
    "Mesh"
   ]
  },
  {
   "cell_type": "code",
   "execution_count": 3,
   "metadata": {},
   "outputs": [
    {
     "name": "stdout",
     "output_type": "stream",
     "text": [
      "Plotting a UnitIntervalMesh\n"
     ]
    },
    {
     "data": {
      "text/plain": [
       "[<matplotlib.lines.Line2D at 0x10cad6fd0>]"
      ]
     },
     "execution_count": 3,
     "metadata": {},
     "output_type": "execute_result"
    },
    {
     "data": {
      "image/png": "[encoded data removed]",
      "text/plain": [
       "<Figure size 640x480 with 1 Axes>"
      ]
     },
     "metadata": {},
     "output_type": "display_data"
    }
   ],
   "source": [
    "# Unit interval mesh\n",
    "mesh = fenics.UnitIntervalMesh(nx)\n",
    "print(\"Plotting a UnitIntervalMesh\")\n",
    "fenics.plot(mesh, title=\"Unit interval\")\n",
    "\n",
    "# # Unit square mesh\n",
    "# mesh = fenics.UnitSquareMesh(nx, nx)\n",
    "# print(\"Plotting a UnitSquareMesh\")\n",
    "# fenics.plot(mesh, title=\"Unit square\")\n",
    "\n",
    "# mesh = fenics.UnitSquareMesh(nx, nx, \"left\")\n",
    "# print(\"Plotting a UnitSquareMesh\")\n",
    "# fenics.plot(mesh, title=\"Unit square (left)\")\n",
    "\n",
    "# mesh = fenics.UnitSquareMesh(nx, nx, \"crossed\")\n",
    "# print(\"Plotting a UnitSquareMesh\")\n",
    "# fenics.plot(mesh, title=\"Unit square (crossed)\")\n",
    "\n",
    "# mesh = fenics.UnitSquareMesh(nx, nx, \"right/left\")\n",
    "# print(\"Plotting a UnitSquareMesh\")\n",
    "# fenics.plot(mesh, title=\"Unit square (right/left)\")\n"
   ]
  },
  {
   "cell_type": "code",
   "execution_count": 4,
   "metadata": {},
   "outputs": [],
   "source": [
    "# Define function space\n",
    "element1 = fenics.FiniteElement (element_type, mesh.ufl_cell (), degree = element_degree)\n"
   ]
  },
  {
   "cell_type": "code",
   "execution_count": null,
   "metadata": {},
   "outputs": [],
   "source": []
  }
 ],
 "metadata": {
  "kernelspec": {
   "display_name": "base",
   "language": "python",
   "name": "python3"
  },
  "language_info": {
   "codemirror_mode": {
    "name": "ipython",
    "version": 3
   },
   "file_extension": ".py",
   "mimetype": "text/x-python",
   "name": "python",
   "nbconvert_exporter": "python",
   "pygments_lexer": "ipython3",
   "version": "3.11.5"
  },
  "orig_nbformat": 4
 },
 "nbformat": 4,
 "nbformat_minor": 2
}
