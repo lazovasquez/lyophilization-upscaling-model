{
 "cells": [
  {
   "cell_type": "code",
   "execution_count": 1,
   "metadata": {},
   "outputs": [],
   "source": [
    "from dolfin import *\n",
    "# from msh2xdmf import import_mesh_from_xdmf, msh2xdmf\n",
    "import numpy as np"
   ]
  },
  {
   "cell_type": "code",
   "execution_count": 2,
   "metadata": {},
   "outputs": [],
   "source": [
    "# Dimensions\n",
    "Flow_Length = 18.46e-3\n",
    "Dh = 2.8e-3\n",
    "\n",
    "# Fluid properties\n",
    "rho = 1.127 # air density at 20 degC, 1 atm, [kg/m3]\n",
    "nu  = 16.92E-6 # air kinematic viscosity at 20 degC, 1 atm, [m2/s]\n",
    "mu = nu * rho\n",
    "cp = 1008. # air heat capacity @ 40°C (J/kg K) \n",
    "k = 27.35e-3 # air thermal conductivity @40°C (W/m/K) \n",
    "p_0 = 0. # outlet air pressure (atmospheric pressure), normalized\n",
    "T_0 = 0. # Inlet temperature (K) \n",
    "u_0 = 5.67 # Inlet velocity (m/s)\n",
    "qw = 1000. # (W/m2)"
   ]
  },
  {
   "cell_type": "code",
   "execution_count": 3,
   "metadata": {},
   "outputs": [],
   "source": [
    "# Create mesh\n",
    "L = 2.2\n",
    "W = 0.41\n",
    "n_x = 8\n",
    "n_y = 8\n",
    "mesh = RectangleMesh(Point(0,0), Point(L, W), n_x, n_y, \"right/left\")\n"
   ]
  },
  {
   "cell_type": "code",
   "execution_count": 4,
   "metadata": {},
   "outputs": [
    {
     "name": "stdout",
     "output_type": "stream",
     "text": [
      "Calling FFC just-in-time (JIT) compiler, this may take some time.\n"
     ]
    }
   ],
   "source": [
    "# Build function space\n",
    "P2 = VectorElement('Lagrange', mesh.ufl_cell() , 2)\n",
    "P1 = FiniteElement('Lagrange', mesh.ufl_cell(), 1)\n",
    "element = MixedElement([P2, P1, P1])\n",
    "W = FunctionSpace(mesh, element)\n",
    "(v, q, s) = TestFunctions(W)\n",
    "upT = Function(W)"
   ]
  },
  {
   "cell_type": "code",
   "execution_count": 5,
   "metadata": {},
   "outputs": [
    {
     "ename": "RuntimeError",
     "evalue": "\n\n*** -------------------------------------------------------------------------\n*** DOLFIN encountered an error. If you are not able to resolve this issue\n*** using the information listed below, you can ask for help at\n***\n***     fenics-support@googlegroups.com\n***\n*** Remember to include the error message listed below and, if possible,\n*** include a *minimal* running example to reproduce the error.\n***\n*** -------------------------------------------------------------------------\n*** Error:   Unable to interpolate function into function space.\n*** Reason:  Dimension 0 of function (3) does not match dimension 0 of function space (2).\n*** Where:   This error was encountered inside FunctionSpace.cpp.\n*** Process: 0\n*** \n*** DOLFIN version: 2019.1.0\n*** Git changeset:  \n*** -------------------------------------------------------------------------\n",
     "output_type": "error",
     "traceback": [
      "\u001b[0;31m---------------------------------------------------------------------------\u001b[0m",
      "\u001b[0;31mRuntimeError\u001b[0m                              Traceback (most recent call last)",
      "\u001b[1;32m/Users/lazovasquez/Documents/GitHub/lyophilization-scale-up-model/model/extended-navier-stokes.ipynb Cell 5\u001b[0m line \u001b[0;36m9\n\u001b[1;32m      <a href='vscode-notebook-cell:/Users/lazovasquez/Documents/GitHub/lyophilization-scale-up-model/model/extended-navier-stokes.ipynb#X10sZmlsZQ%3D%3D?line=6'>7</a>\u001b[0m e_p0 \u001b[39m=\u001b[39m Expression(\u001b[39m'\u001b[39m\u001b[39m0.\u001b[39m\u001b[39m'\u001b[39m, degree\u001b[39m=\u001b[39m\u001b[39m1\u001b[39m)\n\u001b[1;32m      <a href='vscode-notebook-cell:/Users/lazovasquez/Documents/GitHub/lyophilization-scale-up-model/model/extended-navier-stokes.ipynb#X10sZmlsZQ%3D%3D?line=7'>8</a>\u001b[0m e_T0 \u001b[39m=\u001b[39m Expression(\u001b[39m'\u001b[39m\u001b[39m0.\u001b[39m\u001b[39m'\u001b[39m, degree\u001b[39m=\u001b[39m\u001b[39m1\u001b[39m)\n\u001b[0;32m----> <a href='vscode-notebook-cell:/Users/lazovasquez/Documents/GitHub/lyophilization-scale-up-model/model/extended-navier-stokes.ipynb#X10sZmlsZQ%3D%3D?line=8'>9</a>\u001b[0m u0 \u001b[39m=\u001b[39m interpolate(e_u0, W\u001b[39m.\u001b[39;49msub(\u001b[39m0\u001b[39;49m)\u001b[39m.\u001b[39;49mcollapse())\n\u001b[1;32m     <a href='vscode-notebook-cell:/Users/lazovasquez/Documents/GitHub/lyophilization-scale-up-model/model/extended-navier-stokes.ipynb#X10sZmlsZQ%3D%3D?line=9'>10</a>\u001b[0m p0 \u001b[39m=\u001b[39m interpolate(e_p0, W\u001b[39m.\u001b[39msub(\u001b[39m1\u001b[39m)\u001b[39m.\u001b[39mcollapse())\n\u001b[1;32m     <a href='vscode-notebook-cell:/Users/lazovasquez/Documents/GitHub/lyophilization-scale-up-model/model/extended-navier-stokes.ipynb#X10sZmlsZQ%3D%3D?line=10'>11</a>\u001b[0m T0 \u001b[39m=\u001b[39m interpolate(e_T0, W\u001b[39m.\u001b[39msub(\u001b[39m2\u001b[39m)\u001b[39m.\u001b[39mcollapse())\n",
      "File \u001b[0;32m/usr/local/anaconda3/envs/fenicsproject/lib/python3.11/site-packages/dolfin/fem/interpolation.py:71\u001b[0m, in \u001b[0;36minterpolate\u001b[0;34m(v, V)\u001b[0m\n\u001b[1;32m     69\u001b[0m \u001b[39m# Compute interpolation\u001b[39;00m\n\u001b[1;32m     70\u001b[0m \u001b[39mif\u001b[39;00m \u001b[39mhasattr\u001b[39m(v, \u001b[39m\"\u001b[39m\u001b[39m_cpp_object\u001b[39m\u001b[39m\"\u001b[39m):\n\u001b[0;32m---> 71\u001b[0m     Pv\u001b[39m.\u001b[39;49minterpolate(v\u001b[39m.\u001b[39;49m_cpp_object)\n\u001b[1;32m     72\u001b[0m \u001b[39melse\u001b[39;00m:\n\u001b[1;32m     73\u001b[0m     Pv\u001b[39m.\u001b[39minterpolate(v)\n",
      "File \u001b[0;32m/usr/local/anaconda3/envs/fenicsproject/lib/python3.11/site-packages/dolfin/function/function.py:365\u001b[0m, in \u001b[0;36mFunction.interpolate\u001b[0;34m(self, u)\u001b[0m\n\u001b[1;32m    363\u001b[0m     \u001b[39mself\u001b[39m\u001b[39m.\u001b[39m_cpp_object\u001b[39m.\u001b[39minterpolate(u\u001b[39m.\u001b[39m_cpp_object)\n\u001b[1;32m    364\u001b[0m \u001b[39melse\u001b[39;00m:\n\u001b[0;32m--> 365\u001b[0m     \u001b[39mself\u001b[39;49m\u001b[39m.\u001b[39;49m_cpp_object\u001b[39m.\u001b[39;49minterpolate(u)\n",
      "\u001b[0;31mRuntimeError\u001b[0m: \n\n*** -------------------------------------------------------------------------\n*** DOLFIN encountered an error. If you are not able to resolve this issue\n*** using the information listed below, you can ask for help at\n***\n***     fenics-support@googlegroups.com\n***\n*** Remember to include the error message listed below and, if possible,\n*** include a *minimal* running example to reproduce the error.\n***\n*** -------------------------------------------------------------------------\n*** Error:   Unable to interpolate function into function space.\n*** Reason:  Dimension 0 of function (3) does not match dimension 0 of function space (2).\n*** Where:   This error was encountered inside FunctionSpace.cpp.\n*** Process: 0\n*** \n*** DOLFIN version: 2019.1.0\n*** Git changeset:  \n*** -------------------------------------------------------------------------\n"
     ]
    }
   ],
   "source": [
    "   \n",
    "# # LOAD MESH\n",
    "# mesh, boundaries, association_table = import_mesh_from_xdmf(prefix=\"SquareDuct\", dim=3)\n",
    "\n",
    "\n",
    "# Define initial conditions\n",
    "e_u0 = Expression(('0.', '0.', 'u0'), u0=Constant(u_0), degree=1)\n",
    "e_p0 = Expression('0.', degree=1)\n",
    "e_T0 = Expression('0.', degree=1)\n",
    "u0 = interpolate(e_u0, W.sub(0).collapse())\n",
    "p0 = interpolate(e_p0, W.sub(1).collapse())\n",
    "T0 = interpolate(e_T0, W.sub(2).collapse())\n",
    "assign(upT, [u0, p0, T0])"
   ]
  },
  {
   "cell_type": "code",
   "execution_count": null,
   "metadata": {},
   "outputs": [],
   "source": []
  },
  {
   "cell_type": "code",
   "execution_count": null,
   "metadata": {},
   "outputs": [],
   "source": []
  },
  {
   "cell_type": "code",
   "execution_count": null,
   "metadata": {},
   "outputs": [],
   "source": []
  },
  {
   "cell_type": "code",
   "execution_count": null,
   "metadata": {},
   "outputs": [],
   "source": [
    "\n",
    "\n",
    "\n",
    "\n",
    "(u, p, T) = split(upT)\n",
    "\n",
    "n = FacetNormal(mesh)\n",
    "h = CellDiameter(mesh)\n",
    "ds_bc = ds(subdomain_data=boundaries)\n",
    "\n",
    "# Define boundary conditions\n",
    "# Define inflow profile from Shah & London 1978 (velocity profile in a rectangular duct)\n",
    "alpha = 1. # Aspect ratio\n",
    "mv = 1.7 + 0.5 * alpha**-1.4\n",
    "nv = 2 + 0.3 * (alpha - 1./3.)\n",
    "Umax = u_0 * (mv+1)/mv * (nv+1)/nv\n",
    "print(\"alpha, m, n, Umax = \", alpha, mv, nv, Umax)\n",
    "inflow_profile = ('0', '0', 'Umax * (1. - pow(abs(x[0]/H*2), n)) * (1. -  pow(abs(x[1]/W*2), m))')\n",
    "inflow_profile = Expression(inflow_profile, Umax=Constant(Umax), H=Constant(Dh), W=Constant(Dh), m=Constant(mv), n=Constant(nv), degree=2)\n",
    "bcu_inflow = DirichletBC(W.sub(0), inflow_profile, boundaries, association_table[\"inlet\"])\n",
    "bcu_noslip = DirichletBC(W.sub(0), Constant((0, 0, 0)), boundaries, association_table[\"noslip\"])\n",
    "bcu_outflow = DirichletBC(W.sub(1), Constant(p_0), boundaries, association_table[\"outlet\"])\n",
    "bcu = [bcu_inflow, bcu_noslip, bcu_outflow]\n",
    "# ENERGY\n",
    "bcT = DirichletBC(W.sub(2), Constant(T_0), boundaries, association_table[\"inlet\"])\n",
    "bcs = bcu + [bcT]\n",
    "\n",
    "# DEFINE WEAK VARIATIONAL FORM\n",
    "F1 = (rho*inner(grad(u)*u, v)*dx +                 # Momentum ddvection term\n",
    "    mu*inner(grad(u), grad(v))*dx -          # Momentum diffusion term\n",
    "    inner(p, div(v))*dx +                    # Pressure term\n",
    "    div(u)*q*dx                            # Divergence term\n",
    ") \n",
    "F2 = (rho*cp*inner(dot(grad(T), u), s)*dx + # Energy advection term\n",
    "    k*inner(grad(T), grad(s))*dx # Energy diffusion term\n",
    ")\n",
    "F = F1 + F2 - qw*s*ds_bc(association_table[\"noslip\"])\n",
    "\n",
    "J = derivative(F, upT) # Jacobian\n",
    "problem = NonlinearVariationalProblem(F, upT, bcs, J)\n",
    "solver  = NonlinearVariationalSolver(problem)\n",
    "prm = solver.parameters\n",
    "prm['nonlinear_solver'] = 'newton'\n",
    "prm['newton_solver']['linear_solver'] = 'mumps'\n",
    "solver.solve()\n",
    "\n",
    "\n",
    "# POST-PROCESSING\n",
    "Flow_Area = Dh**2\n",
    "Heat_Load = 4. * qw * Flow_Length * Dh\n",
    "print(\"Heat_Load, qw = \", Heat_Load, qw)\n",
    "\n",
    "def Tm(z):\n",
    "    Tm = T_0 + Heat_Load * z / Flow_Length / (u_0 * Flow_Area * rho * cp)\n",
    "    return Tm\n",
    "\n",
    "x = SpatialCoordinate(mesh)\n",
    "#Area = assemble(Constant(1.)*ds_bc(association_table[\"noslip\"])) # Error: ufl.log.UFLException: This integral is missing an integration domain.\n",
    "Area = assemble(T/T*ds_bc(association_table[\"noslip\"])) # There should be a simpler way than integrating T/T\n",
    "\n",
    "# Sanity check\n",
    "Tm_avg = assemble(Tm(x[2])*ds_bc(association_table[\"noslip\"])) / Area\n",
    "print(\"Tm_avg assemble = \", Tm_avg) # this should be equal to DTm_avg mean\n",
    "Tm_avg = (Tm(0.) + Tm(Flow_Length)) / 2\n",
    "print(\"Tm_avg mean = \", Tm_avg)\n",
    "\n",
    "htc_avg = assemble(dot(n, k*grad(T))/(T-Tm(x[2]))*ds_bc(association_table[\"noslip\"])) / Area\n",
    "print(\"htc_avg Tm(x[2]) = \", htc_avg)"
   ]
  },
  {
   "cell_type": "code",
   "execution_count": null,
   "metadata": {},
   "outputs": [],
   "source": []
  }
 ],
 "metadata": {
  "kernelspec": {
   "display_name": "Python 3",
   "language": "python",
   "name": "python3"
  },
  "language_info": {
   "codemirror_mode": {
    "name": "ipython",
    "version": 3
   },
   "file_extension": ".py",
   "mimetype": "text/x-python",
   "name": "python",
   "nbconvert_exporter": "python",
   "pygments_lexer": "ipython3",
   "version": "3.11.5"
  },
  "orig_nbformat": 4
 },
 "nbformat": 4,
 "nbformat_minor": 2
}
